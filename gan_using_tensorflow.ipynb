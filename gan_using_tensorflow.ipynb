{
  "nbformat": 4,
  "nbformat_minor": 0,
  "metadata": {
    "colab": {
      "name": "gan-using-tensorflow.ipynb",
      "provenance": [],
      "include_colab_link": true
    },
    "kernelspec": {
      "name": "python3",
      "display_name": "Python 3"
    },
    "accelerator": "GPU"
  },
  "cells": [
    {
      "cell_type": "markdown",
      "metadata": {
        "id": "view-in-github",
        "colab_type": "text"
      },
      "source": [
        "<a href=\"https://colab.research.google.com/github/macabdul9/generative-adversarial-network/blob/master/gan_using_tensorflow.ipynb\" target=\"_parent\"><img src=\"https://colab.research.google.com/assets/colab-badge.svg\" alt=\"Open In Colab\"/></a>"
      ]
    },
    {
      "cell_type": "code",
      "metadata": {
        "id": "tFHzSoW1nd_E",
        "colab_type": "code",
        "colab": {}
      },
      "source": [
        "from __future__ import division, print_function, absolute_import\n",
        "\n",
        "import matplotlib.pyplot as plt\n",
        "import numpy as np\n",
        "import tensorflow as tf"
      ],
      "execution_count": 0,
      "outputs": []
    },
    {
      "cell_type": "code",
      "metadata": {
        "id": "MBLwL0_wnell",
        "colab_type": "code",
        "colab": {
          "base_uri": "https://localhost:8080/",
          "height": 86
        },
        "outputId": "97236463-b666-4c95-cd08-5b4cb1375811"
      },
      "source": [
        "# Import MNIST data\n",
        "from tensorflow.examples.tutorials.mnist import input_data\n",
        "mnist = input_data.read_data_sets(\"/tmp/data/\", one_hot=True)"
      ],
      "execution_count": 37,
      "outputs": [
        {
          "output_type": "stream",
          "text": [
            "Extracting /tmp/data/train-images-idx3-ubyte.gz\n",
            "Extracting /tmp/data/train-labels-idx1-ubyte.gz\n",
            "Extracting /tmp/data/t10k-images-idx3-ubyte.gz\n",
            "Extracting /tmp/data/t10k-labels-idx1-ubyte.gz\n"
          ],
          "name": "stdout"
        }
      ]
    },
    {
      "cell_type": "code",
      "metadata": {
        "id": "Q1aDWlofnkVi",
        "colab_type": "code",
        "colab": {}
      },
      "source": [
        "# Training Params\n",
        "num_steps = 70000\n",
        "batch_size = 128\n",
        "learning_rate = 0.0002\n",
        "\n",
        "# Network Params\n",
        "image_dim = 784 # 28*28 pixels\n",
        "gen_hidden_dim = 256\n",
        "disc_hidden_dim = 256\n",
        "noise_dim = 100 # Noise data points\n",
        "\n",
        "# A custom initialization (see Xavier Glorot init)\n",
        "def glorot_init(shape):\n",
        "    return tf.random_normal(shape=shape, stddev=1. / tf.sqrt(shape[0] / 2.))"
      ],
      "execution_count": 0,
      "outputs": []
    },
    {
      "cell_type": "code",
      "metadata": {
        "id": "qnc7xb3BntsD",
        "colab_type": "code",
        "colab": {}
      },
      "source": [
        "# Store layers weight & bias\n",
        "weights = {\n",
        "    'gen_hidden1': tf.Variable(glorot_init([noise_dim, gen_hidden_dim])),\n",
        "    'gen_out': tf.Variable(glorot_init([gen_hidden_dim, image_dim])),\n",
        "    'disc_hidden1': tf.Variable(glorot_init([image_dim, disc_hidden_dim])),\n",
        "    'disc_out': tf.Variable(glorot_init([disc_hidden_dim, 1])),\n",
        "}\n",
        "biases = {\n",
        "    'gen_hidden1': tf.Variable(tf.zeros([gen_hidden_dim])),\n",
        "    'gen_out': tf.Variable(tf.zeros([image_dim])),\n",
        "    'disc_hidden1': tf.Variable(tf.zeros([disc_hidden_dim])),\n",
        "    'disc_out': tf.Variable(tf.zeros([1])),\n",
        "}\n"
      ],
      "execution_count": 0,
      "outputs": []
    },
    {
      "cell_type": "code",
      "metadata": {
        "id": "4AtY5YWKnxGn",
        "colab_type": "code",
        "colab": {}
      },
      "source": [
        "# Generator\n",
        "def generator(x):\n",
        "    hidden_layer = tf.matmul(x, weights['gen_hidden1'])\n",
        "    hidden_layer = tf.add(hidden_layer, biases['gen_hidden1'])\n",
        "    hidden_layer = tf.nn.relu(hidden_layer)\n",
        "    out_layer = tf.matmul(hidden_layer, weights['gen_out'])\n",
        "    out_layer = tf.add(out_layer, biases['gen_out'])\n",
        "    out_layer = tf.nn.sigmoid(out_layer)\n",
        "    return out_layer\n",
        "\n",
        "\n",
        "# Discriminator\n",
        "def discriminator(x):\n",
        "    hidden_layer = tf.matmul(x, weights['disc_hidden1'])\n",
        "    hidden_layer = tf.add(hidden_layer, biases['disc_hidden1'])\n",
        "    hidden_layer = tf.nn.relu(hidden_layer)\n",
        "    out_layer = tf.matmul(hidden_layer, weights['disc_out'])\n",
        "    out_layer = tf.add(out_layer, biases['disc_out'])\n",
        "    out_layer = tf.nn.sigmoid(out_layer)\n",
        "    return out_layer"
      ],
      "execution_count": 0,
      "outputs": []
    },
    {
      "cell_type": "code",
      "metadata": {
        "id": "Py2GDKtwn3n8",
        "colab_type": "code",
        "colab": {}
      },
      "source": [
        "# Network Inputs\n",
        "gen_input = tf.placeholder(tf.float32, shape=[None, noise_dim], name='input_noise')\n",
        "disc_input = tf.placeholder(tf.float32, shape=[None, image_dim], name='disc_input')"
      ],
      "execution_count": 0,
      "outputs": []
    },
    {
      "cell_type": "code",
      "metadata": {
        "id": "XwJLulDkn-sS",
        "colab_type": "code",
        "colab": {}
      },
      "source": [
        "# Build Generator Network\n",
        "gen_sample = generator(gen_input)"
      ],
      "execution_count": 0,
      "outputs": []
    },
    {
      "cell_type": "code",
      "metadata": {
        "id": "xcSlD5INoB1b",
        "colab_type": "code",
        "colab": {}
      },
      "source": [
        "# Build 2 Discriminator Networks (one from noise input, one from generated samples)\n",
        "disc_real = discriminator(disc_input)\n",
        "disc_fake = discriminator(gen_sample)"
      ],
      "execution_count": 0,
      "outputs": []
    },
    {
      "cell_type": "code",
      "metadata": {
        "id": "yZWcFzWIoEfC",
        "colab_type": "code",
        "colab": {}
      },
      "source": [
        "# Build Loss\n",
        "gen_loss = -tf.reduce_mean(tf.log(disc_fake))\n",
        "disc_loss = -tf.reduce_mean(tf.log(disc_real) + tf.log(1. - disc_fake))"
      ],
      "execution_count": 0,
      "outputs": []
    },
    {
      "cell_type": "code",
      "metadata": {
        "id": "VME4dHEuoHSh",
        "colab_type": "code",
        "colab": {}
      },
      "source": [
        "# Build Optimizers\n",
        "optimizer_gen = tf.train.AdamOptimizer(learning_rate=learning_rate)\n",
        "optimizer_disc = tf.train.AdamOptimizer(learning_rate=learning_rate)\n",
        "\n",
        "# Training Variables for each optimizer\n",
        "# By default in TensorFlow, all variables are updated by each optimizer, so we\n",
        "# need to precise for each one of them the specific variables to update.\n",
        "# Generator Network Variables\n",
        "gen_vars = [weights['gen_hidden1'], weights['gen_out'],\n",
        "            biases['gen_hidden1'], biases['gen_out']]\n",
        "# Discriminator Network Variables\n",
        "disc_vars = [weights['disc_hidden1'], weights['disc_out'],\n",
        "            biases['disc_hidden1'], biases['disc_out']]\n",
        "\n",
        "# Create training operations\n",
        "train_gen = optimizer_gen.minimize(gen_loss, var_list=gen_vars)\n",
        "train_disc = optimizer_disc.minimize(disc_loss, var_list=disc_vars)\n",
        "\n",
        "# Initialize the variables (i.e. assign their default value)\n",
        "init = tf.global_variables_initializer()\n"
      ],
      "execution_count": 0,
      "outputs": []
    },
    {
      "cell_type": "code",
      "metadata": {
        "id": "0s2MEmD0oL4Z",
        "colab_type": "code",
        "colab": {
          "base_uri": "https://localhost:8080/",
          "height": 642
        },
        "outputId": "b00a3b94-d78a-4358-b541-926bd12fa3f5"
      },
      "source": [
        "# Start Training\n",
        "# Start a new TF session\n",
        "sess = tf.Session()\n",
        "\n",
        "# Run the initializer\n",
        "sess.run(init)\n",
        "\n",
        "# Training\n",
        "for i in range(1, num_steps+1):\n",
        "    # Prepare Data\n",
        "    # Get the next batch of MNIST data (only images are needed, not labels)\n",
        "    batch_x, _ = mnist.train.next_batch(batch_size)\n",
        "    # Generate noise to feed to the generator\n",
        "    z = np.random.uniform(-1., 1., size=[batch_size, noise_dim])\n",
        "\n",
        "    # Train\n",
        "    feed_dict = {disc_input: batch_x, gen_input: z}\n",
        "    _, _, gl, dl = sess.run([train_gen, train_disc, gen_loss, disc_loss],\n",
        "                            feed_dict=feed_dict)\n",
        "    if i % 2000 == 0 or i == 1:\n",
        "        print('Step %i: Generator Loss: %f, Discriminator Loss: %f' % (i, gl, dl))"
      ],
      "execution_count": 46,
      "outputs": [
        {
          "output_type": "stream",
          "text": [
            "Step 1: Generator Loss: 0.464720, Discriminator Loss: 1.761623\n",
            "Step 2000: Generator Loss: 4.133352, Discriminator Loss: 0.058660\n",
            "Step 4000: Generator Loss: 3.789867, Discriminator Loss: 0.086454\n",
            "Step 6000: Generator Loss: 3.864709, Discriminator Loss: 0.139906\n",
            "Step 8000: Generator Loss: 4.064943, Discriminator Loss: 0.125616\n",
            "Step 10000: Generator Loss: 3.517561, Discriminator Loss: 0.176214\n",
            "Step 12000: Generator Loss: 3.719084, Discriminator Loss: 0.261524\n",
            "Step 14000: Generator Loss: 3.568792, Discriminator Loss: 0.241838\n",
            "Step 16000: Generator Loss: 3.600734, Discriminator Loss: 0.210017\n",
            "Step 18000: Generator Loss: 3.752036, Discriminator Loss: 0.322214\n",
            "Step 20000: Generator Loss: 3.460026, Discriminator Loss: 0.277624\n",
            "Step 22000: Generator Loss: 3.262640, Discriminator Loss: 0.320653\n",
            "Step 24000: Generator Loss: 4.021175, Discriminator Loss: 0.238624\n",
            "Step 26000: Generator Loss: 3.771498, Discriminator Loss: 0.233665\n",
            "Step 28000: Generator Loss: 3.644485, Discriminator Loss: 0.342335\n",
            "Step 30000: Generator Loss: 3.071902, Discriminator Loss: 0.357545\n",
            "Step 32000: Generator Loss: 3.070075, Discriminator Loss: 0.438664\n",
            "Step 34000: Generator Loss: 3.593256, Discriminator Loss: 0.303794\n",
            "Step 36000: Generator Loss: 2.969210, Discriminator Loss: 0.355606\n",
            "Step 38000: Generator Loss: 3.253934, Discriminator Loss: 0.363379\n",
            "Step 40000: Generator Loss: 2.953443, Discriminator Loss: 0.389169\n",
            "Step 42000: Generator Loss: 3.177392, Discriminator Loss: 0.418633\n",
            "Step 44000: Generator Loss: 2.866173, Discriminator Loss: 0.406480\n",
            "Step 46000: Generator Loss: 2.741865, Discriminator Loss: 0.468489\n",
            "Step 48000: Generator Loss: 3.148455, Discriminator Loss: 0.417604\n",
            "Step 50000: Generator Loss: 2.765382, Discriminator Loss: 0.479491\n",
            "Step 52000: Generator Loss: 2.653096, Discriminator Loss: 0.318102\n",
            "Step 54000: Generator Loss: 2.761134, Discriminator Loss: 0.410376\n",
            "Step 56000: Generator Loss: 2.992055, Discriminator Loss: 0.443830\n",
            "Step 58000: Generator Loss: 2.778010, Discriminator Loss: 0.405525\n",
            "Step 60000: Generator Loss: 3.006404, Discriminator Loss: 0.435100\n",
            "Step 62000: Generator Loss: 2.903210, Discriminator Loss: 0.385387\n",
            "Step 64000: Generator Loss: 2.601883, Discriminator Loss: 0.517508\n",
            "Step 66000: Generator Loss: 3.044750, Discriminator Loss: 0.485508\n",
            "Step 68000: Generator Loss: 3.418322, Discriminator Loss: 0.381766\n",
            "Step 70000: Generator Loss: 3.174854, Discriminator Loss: 0.434601\n"
          ],
          "name": "stdout"
        }
      ]
    },
    {
      "cell_type": "code",
      "metadata": {
        "id": "Gq8mEFp_oOzq",
        "colab_type": "code",
        "colab": {
          "base_uri": "https://localhost:8080/",
          "height": 378
        },
        "outputId": "8f839025-c985-4c2e-885e-7ccb5b57f54f"
      },
      "source": [
        "# Testing\n",
        "# Generate images from noise, using the generator network.\n",
        "n = 6\n",
        "canvas = np.empty((28 * n, 28 * n))\n",
        "for i in range(n):\n",
        "    # Noise input.\n",
        "    z = np.random.uniform(-1., 1., size=[n, noise_dim])\n",
        "    # Generate image from noise.\n",
        "    g = sess.run(gen_sample, feed_dict={gen_input: z})\n",
        "    # Reverse colours for better display\n",
        "    g = -1 * (g - 1)\n",
        "    for j in range(n):\n",
        "        # Draw the generated digits\n",
        "        canvas[i * 28:(i + 1) * 28, j * 28:(j + 1) * 28] = g[j].reshape([28, 28])\n",
        "\n",
        "plt.figure(figsize=(n, n))\n",
        "plt.imshow(canvas, origin=\"upper\", cmap=\"gray\")\n",
        "plt.show()\n"
      ],
      "execution_count": 47,
      "outputs": [
        {
          "output_type": "display_data",
          "data": {
            "image/png": "[encoded data removed]",
            "text/plain": [
              "<Figure size 432x432 with 1 Axes>"
            ]
          },
          "metadata": {
            "tags": []
          }
        }
      ]
    },
    {
      "cell_type": "code",
      "metadata": {
        "id": "DFxV6YHMpfTr",
        "colab_type": "code",
        "colab": {}
      },
      "source": [
        ""
      ],
      "execution_count": 0,
      "outputs": []
    }
  ]
}